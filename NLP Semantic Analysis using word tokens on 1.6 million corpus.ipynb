{
  "nbformat": 4,
  "nbformat_minor": 0,
  "metadata": {
    "accelerator": "GPU",
    "colab": {
      "name": "NLP Course - Week 3 Exercise Question.ipynb",
      "provenance": []
    },
    "kernelspec": {
      "display_name": "Python 3",
      "name": "python3"
    }
  },
  "cells": [
    {
      "cell_type": "code",
      "metadata": {
        "id": "zX4Kg8DUTKWO"
      },
      "source": [
        "#@title Licensed under the Apache License, Version 2.0 (the \"License\");\n",
        "# you may not use this file except in compliance with the License.\n",
        "# You may obtain a copy of the License at\n",
        "#\n",
        "# https://www.apache.org/licenses/LICENSE-2.0\n",
        "#\n",
        "# Unless required by applicable law or agreed to in writing, software\n",
        "# distributed under the License is distributed on an \"AS IS\" BASIS,\n",
        "# WITHOUT WARRANTIES OR CONDITIONS OF ANY KIND, either express or implied.\n",
        "# See the License for the specific language governing permissions and\n",
        "# limitations under the License."
      ],
      "execution_count": 1,
      "outputs": []
    },
    {
      "cell_type": "code",
      "metadata": {
        "id": "hmA6EzkQJ5jt"
      },
      "source": [
        "import json\n",
        "import tensorflow as tf\n",
        "import csv\n",
        "import random\n",
        "import numpy as np\n",
        "\n",
        "from tensorflow.keras.preprocessing.text import Tokenizer\n",
        "from tensorflow.keras.preprocessing.sequence import pad_sequences\n",
        "from tensorflow.keras.utils import to_categorical\n",
        "from tensorflow.keras import regularizers\n",
        "\n",
        "\n",
        "embedding_dim = 100\n",
        "max_length = 16\n",
        "trunc_type='post'\n",
        "padding_type='post'\n",
        "oov_tok = \"<OOV>\"\n",
        "training_size=160000\n",
        "#Your dataset size here. Experiment using smaller values (i.e. 16000), but don't forget to train on at least 160000 to see the best effects\n",
        "test_portion=.1\n",
        "\n",
        "corpus = []\n"
      ],
      "execution_count": 2,
      "outputs": []
    },
    {
      "cell_type": "code",
      "metadata": {
        "colab": {
          "base_uri": "https://localhost:8080/"
        },
        "id": "M9m-oVw3lLwt",
        "outputId": "421a52c9-5711-4cbc-949a-c2ad9c2c1b49"
      },
      "source": [
        "!wget --no-check-certificate \\\r\n",
        "    https://storage.googleapis.com/laurencemoroney-blog.appspot.com/training_cleaned.csv \\\r\n",
        "    -O /tmp/training_cleaned.csv"
      ],
      "execution_count": 3,
      "outputs": [
        {
          "output_type": "stream",
          "text": [
            "--2021-01-30 03:08:17--  https://storage.googleapis.com/laurencemoroney-blog.appspot.com/training_cleaned.csv\n",
            "Resolving storage.googleapis.com (storage.googleapis.com)... 142.250.31.128, 172.217.9.208, 172.217.164.144, ...\n",
            "Connecting to storage.googleapis.com (storage.googleapis.com)|142.250.31.128|:443... connected.\n",
            "HTTP request sent, awaiting response... 200 OK\n",
            "Length: 238942690 (228M) [application/octet-stream]\n",
            "Saving to: ‘/tmp/training_cleaned.csv’\n",
            "\n",
            "/tmp/training_clean 100%[===================>] 227.87M   142MB/s    in 1.6s    \n",
            "\n",
            "2021-01-30 03:08:19 (142 MB/s) - ‘/tmp/training_cleaned.csv’ saved [238942690/238942690]\n",
            "\n"
          ],
          "name": "stdout"
        }
      ]
    },
    {
      "cell_type": "code",
      "metadata": {
        "id": "ygaHj2H4skjw"
      },
      "source": [
        "count=0\r\n",
        "with open(\"/tmp/training_cleaned.csv\") as csvfile:\r\n",
        "  ping=csv.reader(csvfile,delimiter=\",\")\r\n",
        "\r\n",
        "  for row in ping:\r\n",
        "    count+=1\r\n",
        "    bulla=[]\r\n",
        "    bulla.append(row[5])\r\n",
        "\r\n",
        "    if row[0]==0:\r\n",
        "      bulla.append(0)\r\n",
        "    else:\r\n",
        "      bulla.append(1)\r\n",
        "      corpus.append(bulla)\r\n",
        "\r\n"
      ],
      "execution_count": 4,
      "outputs": []
    },
    {
      "cell_type": "code",
      "metadata": {
        "colab": {
          "base_uri": "https://localhost:8080/"
        },
        "id": "3kxblBUjEUX-",
        "outputId": "67adff02-3ba1-419e-daa0-82fc86c92106"
      },
      "source": [
        "num_sentences=count\n",
        "print(num_sentences)\n",
        "print(len(corpus))\n",
        "print(corpus[1])\n"
      ],
      "execution_count": 5,
      "outputs": [
        {
          "output_type": "stream",
          "text": [
            "1600000\n",
            "1600000\n",
            "[\"is upset that he can't update his Facebook by texting it... and might cry as a result  School today also. Blah!\", 1]\n"
          ],
          "name": "stdout"
        }
      ]
    },
    {
      "cell_type": "code",
      "metadata": {
        "id": "ohOGz24lsNAD"
      },
      "source": [
        "sentences=[]\n",
        "labels=[]\n",
        "\n",
        "\n",
        "random.shuffle(corpus)\n",
        "for x in range(training_size):\n",
        "    sentences.append(corpus[x][0])\n",
        "    labels.append(corpus[x][1])\n",
        "\n",
        "\n",
        "tokenizer = Tokenizer()\n",
        "tokenizer.fit_on_texts(sentences)\n",
        "\n",
        "word_index = tokenizer.word_index\n",
        "vocab_size=len(word_index)\n",
        "\n",
        "sequences = tokenizer.texts_to_sequences(sentences)\n",
        "padded = pad_sequences(sequences,truncating=trunc_type,padding=padding_type,maxlen=max_length)\n",
        "\n",
        "split = int(test_portion * training_size)\n",
        "\n",
        "test_sequences = padded[:split]\n",
        "training_sequences = padded[split:]\n",
        "test_labels = labels[:split]\n",
        "training_labels = labels[split:]"
      ],
      "execution_count": 6,
      "outputs": []
    },
    {
      "cell_type": "code",
      "metadata": {
        "colab": {
          "base_uri": "https://localhost:8080/"
        },
        "id": "gIrtRem1En3N",
        "outputId": "2dc1844a-21d7-4986-acea-0ab5b9639ade"
      },
      "source": [
        "print(vocab_size)\n",
        "print(word_index['i'])\n"
      ],
      "execution_count": 7,
      "outputs": [
        {
          "output_type": "stream",
          "text": [
            "138509\n",
            "1\n"
          ],
          "name": "stdout"
        }
      ]
    },
    {
      "cell_type": "code",
      "metadata": {
        "id": "HIXD7MfS9zEr"
      },
      "source": [
        "import numpy as np\r\n",
        "training_labels=np.asarray(training_labels).astype(\"float32\")\r\n",
        "test_labels=np.asarray(test_labels).astype(\"float32\")"
      ],
      "execution_count": 8,
      "outputs": []
    },
    {
      "cell_type": "code",
      "metadata": {
        "colab": {
          "base_uri": "https://localhost:8080/"
        },
        "id": "iKKvbuEBOGFz",
        "outputId": "03134063-0a5a-421f-a271-5b85bef67ac3"
      },
      "source": [
        "\n",
        "import tensorflow.keras as keras\n",
        "from keras.models import Sequential\n",
        "from keras.layers import Conv1D,Dense,Flatten,Embedding,LSTM,GRU,Bidirectional\n",
        "\n",
        "model=Sequential()\n",
        "model.add(Embedding(vocab_size+1,output_dim=100,input_length=16))\n",
        "model.add(LSTM(128,return_sequences=True))\n",
        "model.add(LSTM(128,return_sequences=True))\n",
        "model.add(LSTM(128))\n",
        "model.add(Dense(128,activation=\"relu\"))\n",
        "model.add(Dense(1,activation=\"sigmoid\"))\n",
        "\n",
        "model.compile(loss=\"binary_crossentropy\",optimizer=\"adam\",metrics=[\"acc\"])\n",
        "model.summary()\n",
        "\n",
        "num_epochs = 10\n",
        "history = model.fit(training_sequences, training_labels, epochs=num_epochs, validation_data=(test_sequences, test_labels), verbose=1)\n",
        "\n",
        "print(\"Training Complete\")\n"
      ],
      "execution_count": 11,
      "outputs": [
        {
          "output_type": "stream",
          "text": [
            "Model: \"sequential_2\"\n",
            "_________________________________________________________________\n",
            "Layer (type)                 Output Shape              Param #   \n",
            "=================================================================\n",
            "embedding_2 (Embedding)      (None, 16, 100)           13851000  \n",
            "_________________________________________________________________\n",
            "lstm_3 (LSTM)                (None, 16, 128)           117248    \n",
            "_________________________________________________________________\n",
            "lstm_4 (LSTM)                (None, 16, 128)           131584    \n",
            "_________________________________________________________________\n",
            "lstm_5 (LSTM)                (None, 128)               131584    \n",
            "_________________________________________________________________\n",
            "dense_2 (Dense)              (None, 128)               16512     \n",
            "_________________________________________________________________\n",
            "dense_3 (Dense)              (None, 1)                 129       \n",
            "=================================================================\n",
            "Total params: 14,248,057\n",
            "Trainable params: 14,248,057\n",
            "Non-trainable params: 0\n",
            "_________________________________________________________________\n",
            "Epoch 1/10\n",
            "4500/4500 [==============================] - 584s 129ms/step - loss: 0.0072 - acc: 0.9988 - val_loss: 5.9112e-10 - val_acc: 1.0000\n",
            "Epoch 2/10\n",
            "4500/4500 [==============================] - 583s 129ms/step - loss: 5.9110e-10 - acc: 1.0000 - val_loss: 5.9112e-10 - val_acc: 1.0000\n",
            "Epoch 3/10\n",
            "4500/4500 [==============================] - 580s 129ms/step - loss: 5.9111e-10 - acc: 1.0000 - val_loss: 5.9112e-10 - val_acc: 1.0000\n",
            "Epoch 4/10\n",
            "4500/4500 [==============================] - 575s 128ms/step - loss: 5.9110e-10 - acc: 1.0000 - val_loss: 5.9112e-10 - val_acc: 1.0000\n",
            "Epoch 5/10\n",
            "4500/4500 [==============================] - 573s 127ms/step - loss: 5.9110e-10 - acc: 1.0000 - val_loss: 5.9112e-10 - val_acc: 1.0000\n",
            "Epoch 6/10\n",
            "4500/4500 [==============================] - 572s 127ms/step - loss: 5.9109e-10 - acc: 1.0000 - val_loss: 5.9112e-10 - val_acc: 1.0000\n",
            "Epoch 7/10\n",
            "4500/4500 [==============================] - 577s 128ms/step - loss: 5.9109e-10 - acc: 1.0000 - val_loss: 5.9112e-10 - val_acc: 1.0000\n",
            "Epoch 8/10\n",
            "4500/4500 [==============================] - 577s 128ms/step - loss: 5.9111e-10 - acc: 1.0000 - val_loss: 5.9112e-10 - val_acc: 1.0000\n",
            "Epoch 9/10\n",
            "4500/4500 [==============================] - 576s 128ms/step - loss: 5.9110e-10 - acc: 1.0000 - val_loss: 5.9112e-10 - val_acc: 1.0000\n",
            "Epoch 10/10\n",
            "4500/4500 [==============================] - 577s 128ms/step - loss: 5.9109e-10 - acc: 1.0000 - val_loss: 5.9112e-10 - val_acc: 1.0000\n",
            "Training Complete\n"
          ],
          "name": "stdout"
        }
      ]
    },
    {
      "cell_type": "code",
      "metadata": {
        "colab": {
          "base_uri": "https://localhost:8080/",
          "height": 607
        },
        "id": "qxju4ItJKO8F",
        "outputId": "312729da-a61b-4910-b073-c16abdc5916e"
      },
      "source": [
        "import matplotlib.image  as mpimg\n",
        "import matplotlib.pyplot as plt\n",
        "\n",
        "\n",
        "acc=history.history['acc']\n",
        "val_acc=history.history['val_acc']\n",
        "loss=history.history['loss']\n",
        "val_loss=history.history['val_loss']\n",
        "\n",
        "epochs=range(len(acc)) \n",
        "plt.plot(epochs, acc, 'r')\n",
        "plt.plot(epochs, val_acc, 'b')\n",
        "plt.title('Training and validation accuracy')\n",
        "plt.xlabel(\"Epochs\")\n",
        "plt.ylabel(\"Accuracy\")\n",
        "plt.legend([\"Accuracy\", \"Validation Accuracy\"])\n",
        "\n",
        "plt.figure()\n",
        "\n",
        "plt.plot(epochs, loss, 'r')\n",
        "plt.plot(epochs, val_loss, 'b')\n",
        "plt.title('Training and validation loss')\n",
        "plt.xlabel(\"Epochs\")\n",
        "plt.ylabel(\"Loss\")\n",
        "plt.legend([\"Loss\", \"Validation Loss\"])\n",
        "\n",
        "plt.figure()\n",
        "\n",
        "\n"
      ],
      "execution_count": 12,
      "outputs": [
        {
          "output_type": "execute_result",
          "data": {
            "text/plain": [
              "<Figure size 432x288 with 0 Axes>"
            ]
          },
          "metadata": {
            "tags": []
          },
          "execution_count": 12
        },
        {
          "output_type": "display_data",
          "data": {
            "image/png": "[encoded data removed]",
            "text/plain": [
              "<Figure size 432x288 with 1 Axes>"
            ]
          },
          "metadata": {
            "tags": [],
            "needs_background": "light"
          }
        },
        {
          "output_type": "display_data",
          "data": {
            "image/png": "[encoded data removed]",
            "text/plain": [
              "<Figure size 432x288 with 1 Axes>"
            ]
          },
          "metadata": {
            "tags": [],
            "needs_background": "light"
          }
        },
        {
          "output_type": "display_data",
          "data": {
            "text/plain": [
              "<Figure size 432x288 with 0 Axes>"
            ]
          },
          "metadata": {
            "tags": []
          }
        }
      ]
    },
    {
      "cell_type": "code",
      "metadata": {
        "id": "jf2fShQzJtAo"
      },
      "source": [
        "weights=model.get_weights()[0]"
      ],
      "execution_count": 13,
      "outputs": []
    },
    {
      "cell_type": "code",
      "metadata": {
        "id": "GvjN6eeoJyTS"
      },
      "source": [
        "sentence=\"she was cute as a fairy, gentle as the falling snow, sparkling like the water in pool\"\r\n",
        "\r\n",
        "tok=tokenizer.texts_to_sequences([sentence])\r\n",
        "padded=pad_sequences(tok,truncating=trunc_type,padding=padding_type,maxlen=max_length)\r\n",
        "\r\n",
        "model.predict(padded)"
      ],
      "execution_count": null,
      "outputs": []
    },
    {
      "cell_type": "code",
      "metadata": {
        "id": "Tjkm-clXKdkd"
      },
      "source": [
        "import io\r\n",
        "\r\n",
        "words=io.open(\"words.tsv\",mode=\"w\",encoding=\"utf-8\")\r\n",
        "\r\n",
        "vector=io.open(\"vectors.tsv\",mode=\"w\",encoding=\"utf-8\")"
      ],
      "execution_count": 1,
      "outputs": []
    },
    {
      "cell_type": "code",
      "metadata": {
        "id": "0JwOqtfcNJ3I"
      },
      "source": [
        "for i in range(1,vocab_size):\r\n",
        "  word=tokenizer.index_word[i]\r\n",
        "  words.write(word +\"\\n\")\r\n",
        "\r\n",
        "  embedding=weights[i]\r\n",
        "  system=\"\\t\".join([str(k) for k in embedding])\r\n",
        "  vector.write(system + \"\\n\")\r\n",
        "words.close()\r\n",
        "vector.close()"
      ],
      "execution_count": null,
      "outputs": []
    },
    {
      "cell_type": "code",
      "metadata": {
        "id": "xwdtT7kpN76o"
      },
      "source": [
        "count=0\r\n",
        "f=open(\"vectors.tsv\")\r\n",
        "for i in f:\r\n",
        "  count+=1\r\n",
        "print(count)"
      ],
      "execution_count": null,
      "outputs": []
    },
    {
      "cell_type": "code",
      "metadata": {
        "id": "s-05zHD_OH_k"
      },
      "source": [
        "count=0\r\n",
        "f=open(\"words.tsv\")\r\n",
        "for i in f:\r\n",
        "  count+=1\r\n",
        "\r\n",
        "print(count)\r\n",
        "  "
      ],
      "execution_count": null,
      "outputs": []
    },
    {
      "cell_type": "code",
      "metadata": {
        "id": "ltw_ry34OVTO"
      },
      "source": [
        "from google.colab import files\r\n",
        "files.download(\"vectors.tsv\")\r\n",
        "files.download(\"words.tsv\")"
      ],
      "execution_count": null,
      "outputs": []
    }
  ]
}